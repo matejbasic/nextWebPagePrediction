{
 "cells": [
  {
   "cell_type": "markdown",
   "metadata": {},
   "source": [
    "# Next web page prediction"
   ]
  },
  {
   "cell_type": "markdown",
   "metadata": {},
   "source": [
    "This notebook is comparison of different classifiers for a problem of predicting next web page which user will visit based on the current one. Goal is to use this findings to build a WP plugin for link prefetching using the `rel=\"prefetch\"` attribute."
   ]
  },
  {
   "cell_type": "markdown",
   "metadata": {},
   "source": [
    "`PagePaths` class is responsible for managing connection to the Google Analytics API and obtaining data from it. First argument is user's profile ID (ga:XXXXXXX), second is path to the client credentials JSON file and third start date. End date is 'today'. Check this [tutorial](https://developers.google.com/analytics/devguides/config/mgmt/v3/quickstart/installed-py) for more about GA setup. \n",
    "\n",
    "`get()` method returns the data directly from the API which can be written to CSV file with `write(data, file_name)`.\n",
    "\n",
    "`paths` is a list of all web page paths (string) in the dataset. \n",
    "`connections` is a list of path indices (from, to) and number of transitions between them for certain date."
   ]
  },
  {
   "cell_type": "code",
   "execution_count": 2,
   "metadata": {},
   "outputs": [
    {
     "data": {
      "text/html": [
       "<div>\n",
       "<style scoped>\n",
       "    .dataframe tbody tr th:only-of-type {\n",
       "        vertical-align: middle;\n",
       "    }\n",
       "\n",
       "    .dataframe tbody tr th {\n",
       "        vertical-align: top;\n",
       "    }\n",
       "\n",
       "    .dataframe thead th {\n",
       "        text-align: right;\n",
       "    }\n",
       "</style>\n",
       "<table border=\"1\" class=\"dataframe\">\n",
       "  <thead>\n",
       "    <tr style=\"text-align: right;\">\n",
       "      <th></th>\n",
       "      <th>prev</th>\n",
       "      <th>next</th>\n",
       "      <th>count</th>\n",
       "    </tr>\n",
       "  </thead>\n",
       "  <tbody>\n",
       "    <tr>\n",
       "      <th>17403</th>\n",
       "      <td>3</td>\n",
       "      <td>6</td>\n",
       "      <td>1</td>\n",
       "    </tr>\n",
       "    <tr>\n",
       "      <th>17404</th>\n",
       "      <td>0</td>\n",
       "      <td>6</td>\n",
       "      <td>1</td>\n",
       "    </tr>\n",
       "    <tr>\n",
       "      <th>17405</th>\n",
       "      <td>1</td>\n",
       "      <td>477</td>\n",
       "      <td>1</td>\n",
       "    </tr>\n",
       "    <tr>\n",
       "      <th>17406</th>\n",
       "      <td>515</td>\n",
       "      <td>1</td>\n",
       "      <td>1</td>\n",
       "    </tr>\n",
       "    <tr>\n",
       "      <th>17407</th>\n",
       "      <td>6</td>\n",
       "      <td>3</td>\n",
       "      <td>1</td>\n",
       "    </tr>\n",
       "  </tbody>\n",
       "</table>\n",
       "</div>"
      ],
      "text/plain": [
       "       prev  next  count\n",
       "17403     3     6      1\n",
       "17404     0     6      1\n",
       "17405     1   477      1\n",
       "17406   515     1      1\n",
       "17407     6     3      1"
      ]
     },
     "execution_count": 2,
     "metadata": {},
     "output_type": "execute_result"
    }
   ],
   "source": [
    "import configparser\n",
    "import numpy as np\n",
    "import pandas as pd\n",
    "from page_paths import PagePaths\n",
    "\n",
    "config = configparser.ConfigParser()\n",
    "config.read('config.ini')\n",
    "\n",
    "pp = PagePaths(config['GA']['viewID'], config['GA']['clientsecret'], '2010-01-01')\n",
    "\n",
    "# paths, connections = pp.get()\n",
    "# pp.write(paths, 'paths.csv')\n",
    "# pp.write(connections, 'connections.csv')\n",
    "\n",
    "paths = pd.read_csv('paths.csv', names=['path'], engine='c')\n",
    "connections = pd.read_csv('connections.csv', names=['prev', 'next', 'count'], dtype=np.int32, engine='c')\n",
    "connections.tail()"
   ]
  },
  {
   "cell_type": "markdown",
   "metadata": {},
   "source": [
    "Split connections to train and test sets (70:30)."
   ]
  },
  {
   "cell_type": "code",
   "execution_count": 5,
   "metadata": {},
   "outputs": [
    {
     "name": "stdout",
     "output_type": "stream",
     "text": [
      "paths(classes): (516, 1)\n",
      "train samples: (12185, 3)\n",
      "test samples: (5223, 3)\n"
     ]
    }
   ],
   "source": [
    "from sklearn.model_selection import train_test_split\n",
    "connections_train, connections_test = train_test_split(connections, test_size=0.3, shuffle=True, random_state=22)\n",
    "\n",
    "print('paths(classes): ' + str(paths.shape))\n",
    "print('train samples: ' + str(connections_train.shape))\n",
    "print('test samples: ' + str(connections_test.shape))"
   ]
  },
  {
   "cell_type": "markdown",
   "metadata": {},
   "source": [
    "Before further usage, we need to split connections to feature (X) and target (y), and one-hot-encode first. X, as being quite sparse, is transformed to compressed sparse row matrix, and y to numpy array."
   ]
  },
  {
   "cell_type": "code",
   "execution_count": 6,
   "metadata": {},
   "outputs": [],
   "source": [
    "from sklearn import preprocessing\n",
    "from scipy.sparse import csr_matrix\n",
    "\n",
    "def encode(data):\n",
    "    X = np.zeros(shape=(data.shape[0], paths.shape[0]))\n",
    "    y = []\n",
    "    counter = 0\n",
    "    for index, row in data.iterrows():\n",
    "        X[counter, row['prev']] = row['count']\n",
    "        y.append(row['next'])\n",
    "        counter += 1\n",
    "    \n",
    "    return csr_matrix(X), np.array(y)\n",
    "\n",
    "X_train, y_train = encode(connections_train)\n",
    "X_test, y_test = encode(connections_test)"
   ]
  },
  {
   "cell_type": "markdown",
   "metadata": {},
   "source": [
    "As we are interested in n >= 1 recommendations, probabilites are predicted for each path in the dataset and then we are extracting top `PREDICTIONS_NUM` for single path. Also, accuracy is calculated for each set of predictions at step `i` and then summed up."
   ]
  },
  {
   "cell_type": "code",
   "execution_count": 10,
   "metadata": {},
   "outputs": [],
   "source": [
    "from sklearn import metrics\n",
    "\n",
    "import matplotlib.pyplot as plt\n",
    "%matplotlib inline\n",
    "\n",
    "PREDICTIONS_NUM = 10\n",
    "\n",
    "def get_predictions(classifier, X):\n",
    "    probabilities = classifier.predict_proba(X)\n",
    "    predictions = [p.argpartition(-PREDICTIONS_NUM)[-PREDICTIONS_NUM::][::-1] for p in probabilities]\n",
    "    \n",
    "    return np.array(predictions)\n",
    "\n",
    "def get_accuracy(y_true, y_pred):\n",
    "    accuracy = 0\n",
    "    accuracy_cumulative = []\n",
    "    \n",
    "    for i in range(0, PREDICTIONS_NUM):\n",
    "        accuracy += metrics.accuracy_score(y_true, y_pred[:,i])\n",
    "        accuracy_cumulative.append(accuracy)\n",
    "    \n",
    "    return accuracy, accuracy_cumulative\n",
    "\n",
    "def plot_accuracy(data, title):\n",
    "    legend_names = []\n",
    "    for row in data:\n",
    "        legend_names.append(row[0])\n",
    "        plt.plot(row[1:-1])\n",
    "    \n",
    "    plt.legend(legend_names, loc='lower right')\n",
    "    plt.ylabel('accuracy')\n",
    "    plt.xlabel('number of predictions')\n",
    "    plt.xticks(np.arange(PREDICTIONS_NUM + 1, step=2))\n",
    "    plt.show()"
   ]
  },
  {
   "cell_type": "markdown",
   "metadata": {},
   "source": [
    "Here we test few classifiers and comparing them considering accuracy and execution time."
   ]
  },
  {
   "cell_type": "code",
   "execution_count": 16,
   "metadata": {},
   "outputs": [
    {
     "data": {
      "image/png": "[encoded data removed]",
      "text/plain": [
       "<Figure size 432x288 with 1 Axes>"
      ]
     },
     "metadata": {},
     "output_type": "display_data"
    },
    {
     "data": {
      "text/html": [
       "<div>\n",
       "<style scoped>\n",
       "    .dataframe tbody tr th:only-of-type {\n",
       "        vertical-align: middle;\n",
       "    }\n",
       "\n",
       "    .dataframe tbody tr th {\n",
       "        vertical-align: top;\n",
       "    }\n",
       "\n",
       "    .dataframe thead th {\n",
       "        text-align: right;\n",
       "    }\n",
       "</style>\n",
       "<table border=\"1\" class=\"dataframe\">\n",
       "  <thead>\n",
       "    <tr style=\"text-align: right;\">\n",
       "      <th></th>\n",
       "      <th>Classifier</th>\n",
       "      <th>1</th>\n",
       "      <th>2</th>\n",
       "      <th>3</th>\n",
       "      <th>4</th>\n",
       "      <th>5</th>\n",
       "      <th>6</th>\n",
       "      <th>7</th>\n",
       "      <th>8</th>\n",
       "      <th>9</th>\n",
       "      <th>10</th>\n",
       "      <th>Duration</th>\n",
       "    </tr>\n",
       "  </thead>\n",
       "  <tbody>\n",
       "    <tr>\n",
       "      <th>1</th>\n",
       "      <td>MLP</td>\n",
       "      <td>0.180548</td>\n",
       "      <td>0.312273</td>\n",
       "      <td>0.420257</td>\n",
       "      <td>0.509094</td>\n",
       "      <td>0.605208</td>\n",
       "      <td>0.691557</td>\n",
       "      <td>0.730998</td>\n",
       "      <td>0.775416</td>\n",
       "      <td>0.802604</td>\n",
       "      <td>0.815240</td>\n",
       "      <td>0:00:35.207844</td>\n",
       "    </tr>\n",
       "    <tr>\n",
       "      <th>2</th>\n",
       "      <td>K Neighbors</td>\n",
       "      <td>0.195290</td>\n",
       "      <td>0.311890</td>\n",
       "      <td>0.424852</td>\n",
       "      <td>0.503925</td>\n",
       "      <td>0.567298</td>\n",
       "      <td>0.616887</td>\n",
       "      <td>0.650201</td>\n",
       "      <td>0.669922</td>\n",
       "      <td>0.678154</td>\n",
       "      <td>0.685238</td>\n",
       "      <td>0:00:02.227997</td>\n",
       "    </tr>\n",
       "    <tr>\n",
       "      <th>3</th>\n",
       "      <td>Random Forest</td>\n",
       "      <td>0.190312</td>\n",
       "      <td>0.293892</td>\n",
       "      <td>0.427915</td>\n",
       "      <td>0.525560</td>\n",
       "      <td>0.611143</td>\n",
       "      <td>0.704384</td>\n",
       "      <td>0.749952</td>\n",
       "      <td>0.784607</td>\n",
       "      <td>0.798583</td>\n",
       "      <td>0.804327</td>\n",
       "      <td>0:00:39.264837</td>\n",
       "    </tr>\n",
       "    <tr>\n",
       "      <th>4</th>\n",
       "      <td>AdaBoost</td>\n",
       "      <td>0.199119</td>\n",
       "      <td>0.322037</td>\n",
       "      <td>0.437105</td>\n",
       "      <td>0.541260</td>\n",
       "      <td>0.612100</td>\n",
       "      <td>0.688685</td>\n",
       "      <td>0.743442</td>\n",
       "      <td>0.781543</td>\n",
       "      <td>0.800689</td>\n",
       "      <td>0.808922</td>\n",
       "      <td>0:01:17.278591</td>\n",
       "    </tr>\n",
       "    <tr>\n",
       "      <th>5</th>\n",
       "      <td>SVC</td>\n",
       "      <td>0.178442</td>\n",
       "      <td>0.279150</td>\n",
       "      <td>0.391729</td>\n",
       "      <td>0.509094</td>\n",
       "      <td>0.597549</td>\n",
       "      <td>0.683324</td>\n",
       "      <td>0.750144</td>\n",
       "      <td>0.795137</td>\n",
       "      <td>0.820218</td>\n",
       "      <td>0.820984</td>\n",
       "      <td>0:04:20.838741</td>\n",
       "    </tr>\n",
       "  </tbody>\n",
       "</table>\n",
       "</div>"
      ],
      "text/plain": [
       "      Classifier         1         2         3         4         5         6  \\\n",
       "1            MLP  0.180548  0.312273  0.420257  0.509094  0.605208  0.691557   \n",
       "2    K Neighbors  0.195290  0.311890  0.424852  0.503925  0.567298  0.616887   \n",
       "3  Random Forest  0.190312  0.293892  0.427915  0.525560  0.611143  0.704384   \n",
       "4       AdaBoost  0.199119  0.322037  0.437105  0.541260  0.612100  0.688685   \n",
       "5            SVC  0.178442  0.279150  0.391729  0.509094  0.597549  0.683324   \n",
       "\n",
       "          7         8         9        10        Duration  \n",
       "1  0.730998  0.775416  0.802604  0.815240  0:00:35.207844  \n",
       "2  0.650201  0.669922  0.678154  0.685238  0:00:02.227997  \n",
       "3  0.749952  0.784607  0.798583  0.804327  0:00:39.264837  \n",
       "4  0.743442  0.781543  0.800689  0.808922  0:01:17.278591  \n",
       "5  0.750144  0.795137  0.820218  0.820984  0:04:20.838741  "
      ]
     },
     "metadata": {},
     "output_type": "display_data"
    }
   ],
   "source": [
    "from datetime import datetime\n",
    "\n",
    "from sklearn.svm import SVC\n",
    "from sklearn.neighbors import KNeighborsClassifier\n",
    "from sklearn.ensemble import RandomForestClassifier\n",
    "from sklearn.ensemble import AdaBoostClassifier\n",
    "from sklearn.neural_network import MLPClassifier\n",
    "\n",
    "RANDOM_SEED = 42\n",
    "\n",
    "classifiers = {\n",
    "    'Random Forest': RandomForestClassifier(n_estimators=len(paths), criterion='gini', random_state=RANDOM_SEED),\n",
    "    'SVC': SVC(probability=True, kernel='rbf', random_state=RANDOM_SEED),\n",
    "    'AdaBoost': AdaBoostClassifier(RandomForestClassifier(), random_state=RANDOM_SEED),\n",
    "    'MLP': MLPClassifier(alpha=0.0006, learning_rate_init=0.009, random_state=RANDOM_SEED),\n",
    "    'K Neighbors': KNeighborsClassifier(n_neighbors=PREDICTIONS_NUM * 2, algorithm='brute')\n",
    "}\n",
    "\n",
    "result_columns = ['Classifier'] + [i for i in range(1, PREDICTIONS_NUM + 1)] + ['Duration']\n",
    "result = []\n",
    "\n",
    "for name, classifier in classifiers.items():\n",
    "    start_time = datetime.now()\n",
    "    classifier.fit(X_train, y_train)\n",
    "    predictions = get_predictions(classifier, X_test)\n",
    "    end_time = datetime.now()\n",
    "    \n",
    "    accuracy, accuracy_cumulative = get_accuracy(y_test, predictions)\n",
    "    result.append([name] + accuracy_cumulative + [str(end_time - start_time)] )\n",
    "\n",
    "plot_accuracy(result, name)\n",
    "result = pd.DataFrame(result, columns=result_columns)\n",
    "result.index += 1\n",
    "display(result)"
   ]
  },
  {
   "cell_type": "markdown",
   "metadata": {},
   "source": [
    "#### Conclusion\n",
    "Most of the displayed models have similar accuracy and they flatten as we approach higher numbers of predictions. AdaBoost has the best start but others are close, even KNN, ~20% for one and ~42% for three predictions which is ok because we can't expect more than a few predictions in a lot of real-life scenarios. KNN also delivers fast, brute-force search does well on small and simple datasets, it could be used as a fallback model. AdaBoost with Random Forest as a weak classifier would be interesting to try to develop optimally from the scratch.\n",
    "\n",
    "#### What's next? \n",
    "Get more data! Testing these approaches on different datasets would give us a better insight in how they would behave in the production and establish some correlations between model hyperparameters and nature of the data."
   ]
  },
  {
   "cell_type": "code",
   "execution_count": null,
   "metadata": {},
   "outputs": [],
   "source": []
  }
 ],
 "metadata": {
  "kernelspec": {
   "display_name": "Python [conda env:tensorflow3.5]",
   "language": "python",
   "name": "conda-env-tensorflow3.5-py"
  },
  "language_info": {
   "codemirror_mode": {
    "name": "ipython",
    "version": 3
   },
   "file_extension": ".py",
   "mimetype": "text/x-python",
   "name": "python",
   "nbconvert_exporter": "python",
   "pygments_lexer": "ipython3",
   "version": "3.5.4"
  }
 },
 "nbformat": 4,
 "nbformat_minor": 2
}
